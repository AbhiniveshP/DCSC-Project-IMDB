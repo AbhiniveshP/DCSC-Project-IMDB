{
 "cells": [
  {
   "cell_type": "code",
   "execution_count": 1,
   "metadata": {},
   "outputs": [],
   "source": [
    "from elasticsearch import Elasticsearch, helpers\n",
    "import os, json"
   ]
  },
  {
   "cell_type": "code",
   "execution_count": 5,
   "metadata": {},
   "outputs": [],
   "source": [
    "f = open('../data/titles_en.json',)"
   ]
  },
  {
   "cell_type": "code",
   "execution_count": 6,
   "metadata": {},
   "outputs": [],
   "source": [
    "data = json.load(f) "
   ]
  },
  {
   "cell_type": "code",
   "execution_count": 7,
   "metadata": {},
   "outputs": [
    {
     "name": "stdout",
     "output_type": "stream",
     "text": [
      "{'id': 'tt0000012', 'name': 'The Arrival of a Train', 'region': 'XEU', 'language': 'en', 'is_original_title': 0, 'format': 'short', 'promotional_title': 'The Arrival of a Train', 'original_title': \"L'arrivée d'un train à La Ciotat\", 'is_adult': 0, 'start_year': 1896, 'end_year': 1896, 'runtime_minutes': 1, 'types': ['imdbDisplay'], 'genres': ['Action', 'Documentary', 'Short'], 'directors': ['nm0525908', 'nm0525910'], 'writers': [], 'seasons': [], 'episodes': [], 'categories': ['self', 'director'], 'people': ['nm2880396', 'nm9735580', 'nm0525900', 'nm9735581', 'nm0525908', 'nm0525910', 'nm9735579', 'nm9653419'], 'jobs': ['\\\\N'], 'characters': ['[\"Self\"]', '\\\\N'], 'genres_count': 3, 'directors_count': 2, 'writers_count': 0, 'seasons_count': 0, 'average_rating': 7.4, 'total_votes': 10401, 'categories_count': 2, 'people_count': 8, 'jobs_count': 1, 'characters_count': 2, 'episodes_count': 0}\n"
     ]
    }
   ],
   "source": [
    "print(data[0])"
   ]
  },
  {
   "cell_type": "code",
   "execution_count": 8,
   "metadata": {},
   "outputs": [],
   "source": [
    "actions_titles = [ {'_id': doc['id'], 'doc_type': 'titles', 'doc': doc} for doc in data ]"
   ]
  },
  {
   "cell_type": "code",
   "execution_count": 12,
   "metadata": {},
   "outputs": [],
   "source": [
    "elastic = Elasticsearch(['34.193.101.103:9200'])"
   ]
  },
  {
   "cell_type": "code",
   "execution_count": 13,
   "metadata": {},
   "outputs": [
    {
     "name": "stderr",
     "output_type": "stream",
     "text": [
      "/Users/abhinivesh/anaconda3/lib/python3.6/site-packages/elasticsearch/connection/base.py:190: ElasticsearchDeprecationWarning: [types removal] Specifying types in bulk requests is deprecated.\n",
      "  warnings.warn(message, category=ElasticsearchDeprecationWarning)\n"
     ]
    },
    {
     "name": "stdout",
     "output_type": "stream",
     "text": [
      "\n",
      "actions RESPONSE: (180739, [])\n"
     ]
    }
   ],
   "source": [
    "try:\n",
    "    # make the bulk call using 'actions' and get a response\n",
    "    response = helpers.bulk(elastic, actions_titles, index='titles', doc_type='titles')\n",
    "    print (\"\\nactions RESPONSE:\", response)\n",
    "except Exception as e:\n",
    "    print(\"\\nERROR:\", e)"
   ]
  },
  {
   "cell_type": "code",
   "execution_count": 14,
   "metadata": {},
   "outputs": [],
   "source": [
    "f = open('../data/names_en.json',)"
   ]
  },
  {
   "cell_type": "code",
   "execution_count": 15,
   "metadata": {},
   "outputs": [],
   "source": [
    "data = json.load(f)"
   ]
  },
  {
   "cell_type": "code",
   "execution_count": 16,
   "metadata": {},
   "outputs": [
    {
     "name": "stdout",
     "output_type": "stream",
     "text": [
      "{'id': 'nm0000001', 'name': 'Fred Astaire', 'birth_year': 1899, 'death_year': 1987, 'professions': ['soundtrack', 'actor', 'miscellaneous'], 'movies_acted': ['tt0072308', 'tt0053137', 'tt0050419'], 'genres': ['Action', 'Drama', 'Thriller', 'Romance', 'Sci-Fi', 'Comedy', 'Musical'], 'directors': ['nm0347086', 'nm0006452', 'nm0002045'], 'formats': ['movie'], 'years_lived': 88, 'professions_count': 3, 'movies_acted_count': 3, 'genres_count': 7, 'directors_count': 3, 'formats_count': 1, 'adult_movies_count': 0, 'non_adult_movies_count': 3}\n"
     ]
    }
   ],
   "source": [
    "print(data[0])"
   ]
  },
  {
   "cell_type": "code",
   "execution_count": 17,
   "metadata": {},
   "outputs": [],
   "source": [
    "actions_people = [ {'_id': doc['id'], 'doc_type': 'people', 'doc': doc} for doc in data ]"
   ]
  },
  {
   "cell_type": "code",
   "execution_count": 18,
   "metadata": {},
   "outputs": [
    {
     "name": "stdout",
     "output_type": "stream",
     "text": [
      "\n",
      "actions RESPONSE: (567866, [])\n"
     ]
    }
   ],
   "source": [
    "try:\n",
    "    # make the bulk call using 'actions' and get a response\n",
    "    response = helpers.bulk(elastic, actions_people, index='people', doc_type='people')\n",
    "    print (\"\\nactions RESPONSE:\", response)\n",
    "except Exception as e:\n",
    "    print(\"\\nERROR:\", e)"
   ]
  },
  {
   "cell_type": "code",
   "execution_count": null,
   "metadata": {},
   "outputs": [],
   "source": []
  }
 ],
 "metadata": {
  "kernelspec": {
   "display_name": "Python 3",
   "language": "python",
   "name": "python3"
  },
  "language_info": {
   "codemirror_mode": {
    "name": "ipython",
    "version": 3
   },
   "file_extension": ".py",
   "mimetype": "text/x-python",
   "name": "python",
   "nbconvert_exporter": "python",
   "pygments_lexer": "ipython3",
   "version": "3.6.9"
  }
 },
 "nbformat": 4,
 "nbformat_minor": 2
}
